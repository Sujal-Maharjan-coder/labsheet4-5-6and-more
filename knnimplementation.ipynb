{
  "nbformat": 4,
  "nbformat_minor": 0,
  "metadata": {
    "colab": {
      "provenance": [],
      "authorship_tag": "ABX9TyM4OTPRddatp/WLrf3udbGV",
      "include_colab_link": true
    },
    "kernelspec": {
      "name": "python3",
      "display_name": "Python 3"
    },
    "language_info": {
      "name": "python"
    }
  },
  "cells": [
    {
      "cell_type": "markdown",
      "metadata": {
        "id": "view-in-github",
        "colab_type": "text"
      },
      "source": [
        "<a href=\"https://colab.research.google.com/github/Sujal-Maharjan-coder/labsheet4-5-6and-more/blob/main/knnimplementation.ipynb\" target=\"_parent\"><img src=\"https://colab.research.google.com/assets/colab-badge.svg\" alt=\"Open In Colab\"/></a>"
      ]
    },
    {
      "cell_type": "code",
      "execution_count": 1,
      "metadata": {
        "id": "4HOHC4wEVMim"
      },
      "outputs": [],
      "source": [
        "import pandas as pd\n",
        "import numpy as np"
      ]
    },
    {
      "cell_type": "code",
      "source": [
        "# calculate the Euclidean distance between two vectors\n",
        "# Euclidean Distance\n",
        "def euclidean_distance(p, q):\n",
        "    return np.sqrt(np.sum((p - q) ** 2))\n",
        "\n",
        "# Manhattan Distance (L1 Norm)\n",
        "def manhattan_distance(p, q):\n",
        "    return np.sum(np.abs(p - q))\n",
        "\n",
        "# Minkowski Distance\n",
        "def minkowski_distance(p, q, p_value):\n",
        "    return np.sum(np.abs(p - q) ** p_value) ** (1 / p_value)"
      ],
      "metadata": {
        "id": "KeGE869nVUlN"
      },
      "execution_count": 2,
      "outputs": []
    },
    {
      "cell_type": "code",
      "source": [
        "# Define two vectors\n",
        "vector1 = np.array([1, 2, 3])\n",
        "vector2 = np.array([4, 5, 6])\n",
        "# Call the function\n",
        "distance = euclidean_distance(vector1, vector2)\n",
        "\n",
        "print(\"Euclidean distance between the two vectors:\", distance)"
      ],
      "metadata": {
        "colab": {
          "base_uri": "https://localhost:8080/"
        },
        "id": "sWKNJ6DSVXJt",
        "outputId": "4447f625-2907-4ef7-8e1f-22b1d3a51101"
      },
      "execution_count": 3,
      "outputs": [
        {
          "output_type": "stream",
          "name": "stdout",
          "text": [
            "Euclidean distance between the two vectors: 5.196152422706632\n"
          ]
        }
      ]
    },
    {
      "cell_type": "code",
      "source": [
        "import numpy as np\n",
        "# Define the data\n",
        "data = [\n",
        "    [2.7810836, 2.550537003, 0],\n",
        "    [1.465489372, 2.362125076, 0],\n",
        "    [3.396561688, 4.400293529, 0],\n",
        "    [1.38807019, 1.850220317, 0],\n",
        "    [3.06407232, 3.005305973, 0],\n",
        "    [7.627531214, 2.759262235, 1],\n",
        "    [5.332441248, 2.088626775, 1],\n",
        "    [6.922596716, 1.77106367, 1],\n",
        "    [8.675418651, -0.242068655, 1],\n",
        "    [7.673756466, 3.508563011, 1]\n",
        "]\n",
        "# Convert the data to a numpy array\n",
        "data_np = np.array(data)\n",
        "\n",
        "# Split the data into X and Y\n",
        "X = data_np[:, :2]  # Select all rows and the first two columns\n",
        "Y = data_np[:, 2]   # Select all rows and the third column\n",
        "\n",
        "# Display the X and Y arrays to verify\n",
        "print(\"X array:\")\n",
        "print(X)\n",
        "print(\"\\nY array:\")\n",
        "print(Y)"
      ],
      "metadata": {
        "colab": {
          "base_uri": "https://localhost:8080/"
        },
        "id": "1zwQ_Z5LVaRM",
        "outputId": "f72cc657-d943-4e03-983c-4cc6dbe4df83"
      },
      "execution_count": 4,
      "outputs": [
        {
          "output_type": "stream",
          "name": "stdout",
          "text": [
            "X array:\n",
            "[[ 2.7810836   2.550537  ]\n",
            " [ 1.46548937  2.36212508]\n",
            " [ 3.39656169  4.40029353]\n",
            " [ 1.38807019  1.85022032]\n",
            " [ 3.06407232  3.00530597]\n",
            " [ 7.62753121  2.75926224]\n",
            " [ 5.33244125  2.08862677]\n",
            " [ 6.92259672  1.77106367]\n",
            " [ 8.67541865 -0.24206865]\n",
            " [ 7.67375647  3.50856301]]\n",
            "\n",
            "Y array:\n",
            "[0. 0. 0. 0. 0. 1. 1. 1. 1. 1.]\n"
          ]
        }
      ]
    },
    {
      "cell_type": "code",
      "source": [
        "import matplotlib.pyplot as plt\n",
        "# Plot the data\n",
        "plt.figure(figsize=(10, 6))\n",
        "\n",
        "# Separate the data points based on their labels\n",
        "for label in np.unique(Y):\n",
        "    plt.scatter(X[Y == label][:, 0], X[Y == label][:, 1], label=f'Class {int(label)}')\n",
        "\n",
        "# Add labels and title\n",
        "plt.xlabel('X1')\n",
        "plt.ylabel('X2')\n",
        "plt.title('Scatter Plot of Data Points')\n",
        "plt.legend()\n",
        "plt.grid(True)\n",
        "\n",
        "# Show the plot\n",
        "plt.show()"
      ],
      "metadata": {
        "colab": {
          "base_uri": "https://localhost:8080/",
          "height": 564
        },
        "id": "ysUkrXT_VeXU",
        "outputId": "a834554f-323d-4bd6-8901-f0eeec96ac7f"
      },
      "execution_count": 5,
      "outputs": [
        {
          "output_type": "display_data",
          "data": {
            "text/plain": [
              "<Figure size 1000x600 with 1 Axes>"
            ],
            "image/png": "[encoded data removed]"
          },
          "metadata": {}
        }
      ]
    },
    {
      "cell_type": "code",
      "source": [
        "from collections import Counter\n",
        "# kNN algorithm\n",
        "def k_nearest_neighbors(X, Y, query_point, k):\n",
        "    distances = []\n",
        "\n",
        "    # Calculate distances from the query point to all other points\n",
        "    for i, point in enumerate(X):\n",
        "        distance = euclidean_distance(point, query_point)\n",
        "        distances.append((distance, Y[i]))\n",
        "\n",
        "    # Sort distances in ascending order\n",
        "    distances.sort(key=lambda x: x[0])\n",
        "\n",
        "    # Select the k nearest neighbors\n",
        "    k_nearest = distances[:k]\n",
        "\n",
        "    # Get the labels of the k nearest neighbors\n",
        "    k_nearest_labels = [label for _, label in k_nearest]\n",
        "\n",
        "    # Determine the most common label (majority vote)\n",
        "    majority_vote = Counter(k_nearest_labels).most_common(1)\n",
        "\n",
        "    return majority_vote[0][0]\n",
        "\n",
        "# Define a query point\n",
        "query_point = np.array([7.0, 3.0])\n",
        "\n",
        "# Set the value of k\n",
        "k = 3\n",
        "\n",
        "# Predict the class for the query point\n",
        "predicted_class = k_nearest_neighbors(X, Y, query_point, k)\n",
        "\n",
        "print(f\"The predicted class for the query point {query_point} is: {predicted_class}\")"
      ],
      "metadata": {
        "colab": {
          "base_uri": "https://localhost:8080/"
        },
        "id": "sjRx3mL1VhEb",
        "outputId": "40af06f3-7393-4120-ab56-ee78d7cb05c8"
      },
      "execution_count": 6,
      "outputs": [
        {
          "output_type": "stream",
          "name": "stdout",
          "text": [
            "The predicted class for the query point [7. 3.] is: 1.0\n"
          ]
        }
      ]
    },
    {
      "cell_type": "code",
      "source": [
        "# Method to plot the data\n",
        "def plot_data(X, Y, query_point=None):\n",
        "    plt.figure(figsize=(10, 6))\n",
        "\n",
        "    # Separate the data points based on their labels\n",
        "    for label in np.unique(Y):\n",
        "        plt.scatter(X[Y == label][:, 0], X[Y == label][:, 1], label=f'Class {int(label)}')\n",
        "\n",
        "    # Plot the query point if provided\n",
        "    if query_point is not None:\n",
        "        plt.scatter(query_point[0], query_point[1], c='red', marker='x', s=100, label='Query Point')\n",
        "\n",
        "    # Add labels and title\n",
        "    plt.xlabel('X1')\n",
        "    plt.ylabel('X2')\n",
        "    plt.title('Scatter Plot of Data Points')\n",
        "    plt.legend()\n",
        "    plt.grid(True)\n",
        "\n",
        "    # Show the plot\n",
        "    plt.show()\n",
        "\n",
        "# Define the dataset\n",
        "X = np.array([\n",
        "    [2.7810836, 2.550537003],\n",
        "    [1.465489372, 2.362125076],\n",
        "    [3.396561688, 4.400293529],\n",
        "    [1.38807019, 1.850220317],\n",
        "    [3.06407232, 3.005305973],\n",
        "    [7.627531214, 2.759262235],\n",
        "    [5.332441248, 2.088626775],\n",
        "    [6.922596716, 1.77106367],\n",
        "    [8.675418651, -0.242068655],\n",
        "    [7.673756466, 3.508563011]\n",
        "])\n",
        "\n",
        "Y = np.array([0, 0, 0, 0, 0, 1, 1, 1, 1, 1])\n",
        "\n",
        "# Define a query point\n",
        "query_point = np.array([3.0, 3.0])\n",
        "\n",
        "# Set the value of k\n",
        "k = 3\n",
        "\n",
        "# Predict the class for the query point\n",
        "predicted_class = k_nearest_neighbors(X, Y, query_point, k)\n",
        "print(f\"The predicted class for the query point {query_point} is: {predicted_class}\")\n",
        "\n",
        "# Plot the data with the query point\n",
        "plot_data(X, Y, query_point)"
      ],
      "metadata": {
        "colab": {
          "base_uri": "https://localhost:8080/",
          "height": 581
        },
        "id": "3tO3hU-9VnqE",
        "outputId": "2d139a7f-c8d5-41cb-b1cd-90f2b969b26b"
      },
      "execution_count": 7,
      "outputs": [
        {
          "output_type": "stream",
          "name": "stdout",
          "text": [
            "The predicted class for the query point [3. 3.] is: 0\n"
          ]
        },
        {
          "output_type": "display_data",
          "data": {
            "text/plain": [
              "<Figure size 1000x600 with 1 Axes>"
            ],
            "image/png": "[encoded data removed]"
          },
          "metadata": {}
        }
      ]
    },
    {
      "cell_type": "code",
      "source": [
        "import pandas as pd\n",
        "\n",
        "# Specify the path to the CSV file\n",
        "file_path = r'D:\\MLDatasets\\column_2C_weka.csv'\n",
        "\n",
        "# Read the CSV file into a DataFrame\n",
        "data_2C = pd.read_csv(file_path)\n",
        "\n",
        "# Display the first few rows of the DataFrame to verify the data is loaded correctly\n",
        "print(data_2C.head())"
      ],
      "metadata": {
        "colab": {
          "base_uri": "https://localhost:8080/",
          "height": 356
        },
        "id": "2RtDVLXTVq9c",
        "outputId": "5e2d6fd5-85ed-494a-bf64-03cbeb916aab"
      },
      "execution_count": 9,
      "outputs": [
        {
          "output_type": "error",
          "ename": "FileNotFoundError",
          "evalue": "[Errno 2] No such file or directory: 'D:\\\\MLDatasets\\\\column_2C_weka.csv'",
          "traceback": [
            "\u001b[0;31m---------------------------------------------------------------------------\u001b[0m",
            "\u001b[0;31mFileNotFoundError\u001b[0m                         Traceback (most recent call last)",
            "\u001b[0;32m<ipython-input-9-270dc7bdfaaf>\u001b[0m in \u001b[0;36m<cell line: 0>\u001b[0;34m()\u001b[0m\n\u001b[1;32m      5\u001b[0m \u001b[0;34m\u001b[0m\u001b[0m\n\u001b[1;32m      6\u001b[0m \u001b[0;31m# Read the CSV file into a DataFrame\u001b[0m\u001b[0;34m\u001b[0m\u001b[0;34m\u001b[0m\u001b[0m\n\u001b[0;32m----> 7\u001b[0;31m \u001b[0mdata_2C\u001b[0m \u001b[0;34m=\u001b[0m \u001b[0mpd\u001b[0m\u001b[0;34m.\u001b[0m\u001b[0mread_csv\u001b[0m\u001b[0;34m(\u001b[0m\u001b[0mfile_path\u001b[0m\u001b[0;34m)\u001b[0m\u001b[0;34m\u001b[0m\u001b[0;34m\u001b[0m\u001b[0m\n\u001b[0m\u001b[1;32m      8\u001b[0m \u001b[0;34m\u001b[0m\u001b[0m\n\u001b[1;32m      9\u001b[0m \u001b[0;31m# Display the first few rows of the DataFrame to verify the data is loaded correctly\u001b[0m\u001b[0;34m\u001b[0m\u001b[0;34m\u001b[0m\u001b[0m\n",
            "\u001b[0;32m/usr/local/lib/python3.11/dist-packages/pandas/io/parsers/readers.py\u001b[0m in \u001b[0;36mread_csv\u001b[0;34m(filepath_or_buffer, sep, delimiter, header, names, index_col, usecols, dtype, engine, converters, true_values, false_values, skipinitialspace, skiprows, skipfooter, nrows, na_values, keep_default_na, na_filter, verbose, skip_blank_lines, parse_dates, infer_datetime_format, keep_date_col, date_parser, date_format, dayfirst, cache_dates, iterator, chunksize, compression, thousands, decimal, lineterminator, quotechar, quoting, doublequote, escapechar, comment, encoding, encoding_errors, dialect, on_bad_lines, delim_whitespace, low_memory, memory_map, float_precision, storage_options, dtype_backend)\u001b[0m\n\u001b[1;32m   1024\u001b[0m     \u001b[0mkwds\u001b[0m\u001b[0;34m.\u001b[0m\u001b[0mupdate\u001b[0m\u001b[0;34m(\u001b[0m\u001b[0mkwds_defaults\u001b[0m\u001b[0;34m)\u001b[0m\u001b[0;34m\u001b[0m\u001b[0;34m\u001b[0m\u001b[0m\n\u001b[1;32m   1025\u001b[0m \u001b[0;34m\u001b[0m\u001b[0m\n\u001b[0;32m-> 1026\u001b[0;31m     \u001b[0;32mreturn\u001b[0m \u001b[0m_read\u001b[0m\u001b[0;34m(\u001b[0m\u001b[0mfilepath_or_buffer\u001b[0m\u001b[0;34m,\u001b[0m \u001b[0mkwds\u001b[0m\u001b[0;34m)\u001b[0m\u001b[0;34m\u001b[0m\u001b[0;34m\u001b[0m\u001b[0m\n\u001b[0m\u001b[1;32m   1027\u001b[0m \u001b[0;34m\u001b[0m\u001b[0m\n\u001b[1;32m   1028\u001b[0m \u001b[0;34m\u001b[0m\u001b[0m\n",
            "\u001b[0;32m/usr/local/lib/python3.11/dist-packages/pandas/io/parsers/readers.py\u001b[0m in \u001b[0;36m_read\u001b[0;34m(filepath_or_buffer, kwds)\u001b[0m\n\u001b[1;32m    618\u001b[0m \u001b[0;34m\u001b[0m\u001b[0m\n\u001b[1;32m    619\u001b[0m     \u001b[0;31m# Create the parser.\u001b[0m\u001b[0;34m\u001b[0m\u001b[0;34m\u001b[0m\u001b[0m\n\u001b[0;32m--> 620\u001b[0;31m     \u001b[0mparser\u001b[0m \u001b[0;34m=\u001b[0m \u001b[0mTextFileReader\u001b[0m\u001b[0;34m(\u001b[0m\u001b[0mfilepath_or_buffer\u001b[0m\u001b[0;34m,\u001b[0m \u001b[0;34m**\u001b[0m\u001b[0mkwds\u001b[0m\u001b[0;34m)\u001b[0m\u001b[0;34m\u001b[0m\u001b[0;34m\u001b[0m\u001b[0m\n\u001b[0m\u001b[1;32m    621\u001b[0m \u001b[0;34m\u001b[0m\u001b[0m\n\u001b[1;32m    622\u001b[0m     \u001b[0;32mif\u001b[0m \u001b[0mchunksize\u001b[0m \u001b[0;32mor\u001b[0m \u001b[0miterator\u001b[0m\u001b[0;34m:\u001b[0m\u001b[0;34m\u001b[0m\u001b[0;34m\u001b[0m\u001b[0m\n",
            "\u001b[0;32m/usr/local/lib/python3.11/dist-packages/pandas/io/parsers/readers.py\u001b[0m in \u001b[0;36m__init__\u001b[0;34m(self, f, engine, **kwds)\u001b[0m\n\u001b[1;32m   1618\u001b[0m \u001b[0;34m\u001b[0m\u001b[0m\n\u001b[1;32m   1619\u001b[0m         \u001b[0mself\u001b[0m\u001b[0;34m.\u001b[0m\u001b[0mhandles\u001b[0m\u001b[0;34m:\u001b[0m \u001b[0mIOHandles\u001b[0m \u001b[0;34m|\u001b[0m \u001b[0;32mNone\u001b[0m \u001b[0;34m=\u001b[0m \u001b[0;32mNone\u001b[0m\u001b[0;34m\u001b[0m\u001b[0;34m\u001b[0m\u001b[0m\n\u001b[0;32m-> 1620\u001b[0;31m         \u001b[0mself\u001b[0m\u001b[0;34m.\u001b[0m\u001b[0m_engine\u001b[0m \u001b[0;34m=\u001b[0m \u001b[0mself\u001b[0m\u001b[0;34m.\u001b[0m\u001b[0m_make_engine\u001b[0m\u001b[0;34m(\u001b[0m\u001b[0mf\u001b[0m\u001b[0;34m,\u001b[0m \u001b[0mself\u001b[0m\u001b[0;34m.\u001b[0m\u001b[0mengine\u001b[0m\u001b[0;34m)\u001b[0m\u001b[0;34m\u001b[0m\u001b[0;34m\u001b[0m\u001b[0m\n\u001b[0m\u001b[1;32m   1621\u001b[0m \u001b[0;34m\u001b[0m\u001b[0m\n\u001b[1;32m   1622\u001b[0m     \u001b[0;32mdef\u001b[0m \u001b[0mclose\u001b[0m\u001b[0;34m(\u001b[0m\u001b[0mself\u001b[0m\u001b[0;34m)\u001b[0m \u001b[0;34m->\u001b[0m \u001b[0;32mNone\u001b[0m\u001b[0;34m:\u001b[0m\u001b[0;34m\u001b[0m\u001b[0;34m\u001b[0m\u001b[0m\n",
            "\u001b[0;32m/usr/local/lib/python3.11/dist-packages/pandas/io/parsers/readers.py\u001b[0m in \u001b[0;36m_make_engine\u001b[0;34m(self, f, engine)\u001b[0m\n\u001b[1;32m   1878\u001b[0m                 \u001b[0;32mif\u001b[0m \u001b[0;34m\"b\"\u001b[0m \u001b[0;32mnot\u001b[0m \u001b[0;32min\u001b[0m \u001b[0mmode\u001b[0m\u001b[0;34m:\u001b[0m\u001b[0;34m\u001b[0m\u001b[0;34m\u001b[0m\u001b[0m\n\u001b[1;32m   1879\u001b[0m                     \u001b[0mmode\u001b[0m \u001b[0;34m+=\u001b[0m \u001b[0;34m\"b\"\u001b[0m\u001b[0;34m\u001b[0m\u001b[0;34m\u001b[0m\u001b[0m\n\u001b[0;32m-> 1880\u001b[0;31m             self.handles = get_handle(\n\u001b[0m\u001b[1;32m   1881\u001b[0m                 \u001b[0mf\u001b[0m\u001b[0;34m,\u001b[0m\u001b[0;34m\u001b[0m\u001b[0;34m\u001b[0m\u001b[0m\n\u001b[1;32m   1882\u001b[0m                 \u001b[0mmode\u001b[0m\u001b[0;34m,\u001b[0m\u001b[0;34m\u001b[0m\u001b[0;34m\u001b[0m\u001b[0m\n",
            "\u001b[0;32m/usr/local/lib/python3.11/dist-packages/pandas/io/common.py\u001b[0m in \u001b[0;36mget_handle\u001b[0;34m(path_or_buf, mode, encoding, compression, memory_map, is_text, errors, storage_options)\u001b[0m\n\u001b[1;32m    871\u001b[0m         \u001b[0;32mif\u001b[0m \u001b[0mioargs\u001b[0m\u001b[0;34m.\u001b[0m\u001b[0mencoding\u001b[0m \u001b[0;32mand\u001b[0m \u001b[0;34m\"b\"\u001b[0m \u001b[0;32mnot\u001b[0m \u001b[0;32min\u001b[0m \u001b[0mioargs\u001b[0m\u001b[0;34m.\u001b[0m\u001b[0mmode\u001b[0m\u001b[0;34m:\u001b[0m\u001b[0;34m\u001b[0m\u001b[0;34m\u001b[0m\u001b[0m\n\u001b[1;32m    872\u001b[0m             \u001b[0;31m# Encoding\u001b[0m\u001b[0;34m\u001b[0m\u001b[0;34m\u001b[0m\u001b[0m\n\u001b[0;32m--> 873\u001b[0;31m             handle = open(\n\u001b[0m\u001b[1;32m    874\u001b[0m                 \u001b[0mhandle\u001b[0m\u001b[0;34m,\u001b[0m\u001b[0;34m\u001b[0m\u001b[0;34m\u001b[0m\u001b[0m\n\u001b[1;32m    875\u001b[0m                 \u001b[0mioargs\u001b[0m\u001b[0;34m.\u001b[0m\u001b[0mmode\u001b[0m\u001b[0;34m,\u001b[0m\u001b[0;34m\u001b[0m\u001b[0;34m\u001b[0m\u001b[0m\n",
            "\u001b[0;31mFileNotFoundError\u001b[0m: [Errno 2] No such file or directory: 'D:\\\\MLDatasets\\\\column_2C_weka.csv'"
          ]
        }
      ]
    },
    {
      "cell_type": "code",
      "source": [
        "data_2C.describe().transpose()"
      ],
      "metadata": {
        "id": "Z1P0FkK7V47U"
      },
      "execution_count": null,
      "outputs": []
    },
    {
      "cell_type": "code",
      "source": [
        "\n",
        "data_2C.dtypes\n"
      ],
      "metadata": {
        "id": "_2OCWgwwVvkd"
      },
      "execution_count": null,
      "outputs": []
    },
    {
      "cell_type": "code",
      "source": [
        "colnames_numeric = data_2C.columns[0:6]"
      ],
      "metadata": {
        "id": "7_5W4IGHV9vM"
      },
      "execution_count": null,
      "outputs": []
    },
    {
      "cell_type": "code",
      "source": [
        "#Scaling a data in always a good idea while using KNN\n",
        "from sklearn.preprocessing import MinMaxScaler\n",
        "scaler = MinMaxScaler()\n",
        "data_2C[colnames_numeric] = scaler.fit_transform(data_2C[colnames_numeric])"
      ],
      "metadata": {
        "id": "fTSI7CtYWBh9"
      },
      "execution_count": null,
      "outputs": []
    },
    {
      "cell_type": "code",
      "source": [
        "data_2C.head()"
      ],
      "metadata": {
        "id": "ZxDEKdLDWDyI"
      },
      "execution_count": null,
      "outputs": []
    },
    {
      "cell_type": "code",
      "source": [
        "\n",
        "data_2C.shape"
      ],
      "metadata": {
        "id": "5c1kVSfiWF1E"
      },
      "execution_count": null,
      "outputs": []
    },
    {
      "cell_type": "code",
      "source": [
        "df = data_2C.values.tolist()"
      ],
      "metadata": {
        "id": "C2vINCcyWHcE"
      },
      "execution_count": null,
      "outputs": []
    },
    {
      "cell_type": "code",
      "source": [
        "#Breaking the data into training and test set\n",
        "import random\n",
        "def train_test_split(data, split, trainingSet = [], testSet = []):\n",
        "    for x in range(len(data)):\n",
        "        if random.random() < split:\n",
        "            trainingSet.append(data[x])\n",
        "        else:\n",
        "            testSet.append(data[x])"
      ],
      "metadata": {
        "id": "v8rK8MvPWJF8"
      },
      "execution_count": null,
      "outputs": []
    },
    {
      "cell_type": "code",
      "source": [
        "trainingSet = []\n",
        "testSet = []\n",
        "split = 0.66\n",
        "train_test_split(df, split, trainingSet, testSet)"
      ],
      "metadata": {
        "id": "U_YNYdKlWK7o"
      },
      "execution_count": null,
      "outputs": []
    },
    {
      "cell_type": "code",
      "source": [
        "len(trainingSet)"
      ],
      "metadata": {
        "id": "0wMMNDojWM0E"
      },
      "execution_count": null,
      "outputs": []
    },
    {
      "cell_type": "code",
      "source": [
        "len(testSet)"
      ],
      "metadata": {
        "id": "P0OUXq1ZWON8"
      },
      "execution_count": null,
      "outputs": []
    },
    {
      "cell_type": "code",
      "source": [
        "#Define Euclidean distances\n",
        "import math\n",
        "def Euclideandist(x,xi, length):\n",
        "    d = 0.0\n",
        "    for i in range(length):\n",
        "        d += pow(float(x[i])- float(xi[i]),2)\n",
        "    return math.sqrt(d)"
      ],
      "metadata": {
        "id": "8IZ30CYiWRbk"
      },
      "execution_count": null,
      "outputs": []
    },
    {
      "cell_type": "code",
      "source": [
        "#Getting the K neighbours having the closest Euclidean distance to the test instance\n",
        "import operator\n",
        "def getNeighbors(trainingSet, testInstance, k):\n",
        "    distances = []\n",
        "    length = len(testInstance)-1\n",
        "    for x in range(len(trainingSet)):\n",
        "        dist = Euclideandist(testInstance, trainingSet[x], length)\n",
        "        distances.append((trainingSet[x], dist))\n",
        "    distances.sort(key=operator.itemgetter(1))\n",
        "    neighbors = []\n",
        "    for x in range(k):\n",
        "        neighbors.append(distances[x][0])\n",
        "    return neighbors"
      ],
      "metadata": {
        "id": "eHp977Y2WTcs"
      },
      "execution_count": null,
      "outputs": []
    },
    {
      "cell_type": "code",
      "source": [
        "#After sorting the neighbours based on their respective classes, max voting to give the final class of the test instance\n",
        "import operator\n",
        "def getResponse(neighbors):\n",
        "\tclassVotes = {}\n",
        "\tfor x in range(len(neighbors)):\n",
        "\t\tresponse = neighbors[x][-1]\n",
        "\t\tif response in classVotes:\n",
        "\t\t\tclassVotes[response] += 1\n",
        "\t\telse:\n",
        "\t\t\tclassVotes[response] = 1\n",
        "\tsortedVotes = sorted(classVotes.items(), key=operator.itemgetter(1), reverse=True)#Sorting it based on votes\n",
        "\treturn sortedVotes[0][0] #Please note we need the class for the top voted class, hence [0][0]#"
      ],
      "metadata": {
        "id": "wntHf9xNWVD0"
      },
      "execution_count": null,
      "outputs": []
    },
    {
      "cell_type": "code",
      "source": [
        "#Getting the accuracy\n",
        "def getAccuracy(testSet, predictions):\n",
        "\tcorrect = 0\n",
        "\tfor x in range(len(testSet)):\n",
        "\t\tif testSet[x][-1] == predictions[x]:\n",
        "\t\t\tcorrect += 1\n",
        "\treturn (correct/float(len(testSet))) * 100.0"
      ],
      "metadata": {
        "id": "hZlyb3osWXhV"
      },
      "execution_count": null,
      "outputs": []
    },
    {
      "cell_type": "code",
      "source": [
        "\t# generate predictions\n",
        "predictions=[]\n",
        "k = 3\n",
        "for x in range(len(testSet)):\n",
        "    neighbors = getNeighbors(trainingSet, testSet[x], k)\n",
        "    result = getResponse(neighbors)\n",
        "    predictions.append(result)\n",
        "    print('> predicted=' + repr(result) + ', actual=' + repr(testSet[x][-1]))"
      ],
      "metadata": {
        "id": "L8rkSc-nWZZR"
      },
      "execution_count": null,
      "outputs": []
    },
    {
      "cell_type": "code",
      "source": [
        "accuracy = getAccuracy(testSet, predictions)\n",
        "print('Accuracy: ' + repr(accuracy) + '%')"
      ],
      "metadata": {
        "id": "FxlANAWXWbOM"
      },
      "execution_count": null,
      "outputs": []
    },
    {
      "cell_type": "code",
      "source": [
        "#Implementing Naive Bayes using scikitlearn\n",
        "trainingSet2 = pd.DataFrame(np.array(trainingSet).reshape(len(trainingSet),7), columns = data_2C.columns)\n",
        "testSet2 = pd.DataFrame(np.array(testSet).reshape(len(testSet),7), columns = data_2C.columns)"
      ],
      "metadata": {
        "id": "WJKTJN1BWd4e"
      },
      "execution_count": null,
      "outputs": []
    },
    {
      "cell_type": "code",
      "source": [
        "trainingSet2.dtypes"
      ],
      "metadata": {
        "id": "0-8PcSC4Wfm8"
      },
      "execution_count": null,
      "outputs": []
    },
    {
      "cell_type": "code",
      "source": [
        "#Even the numeric terms have been converted into an object. Hence need to reconvert"
      ],
      "metadata": {
        "id": "0dF9nwhoWhcV"
      },
      "execution_count": null,
      "outputs": []
    },
    {
      "cell_type": "code",
      "source": [
        "trainingSet2[colnames_numeric] = trainingSet2[colnames_numeric].apply(pd.to_numeric, errors = 'coerce', axis = 0)"
      ],
      "metadata": {
        "id": "z_dFtW9lWjV9"
      },
      "execution_count": null,
      "outputs": []
    },
    {
      "cell_type": "code",
      "source": [
        "trainingSet2.dtypes"
      ],
      "metadata": {
        "id": "gyfSuQIoWlMW"
      },
      "execution_count": null,
      "outputs": []
    },
    {
      "cell_type": "code",
      "source": [
        "testSet2[colnames_numeric] = testSet2[colnames_numeric].apply(pd.to_numeric, errors = 'coerce', axis = 0)"
      ],
      "metadata": {
        "id": "FDkiO2LbWm1B"
      },
      "execution_count": null,
      "outputs": []
    },
    {
      "cell_type": "code",
      "source": [
        "testSet2.dtypes"
      ],
      "metadata": {
        "id": "jdJwebgWWsVV"
      },
      "execution_count": null,
      "outputs": []
    },
    {
      "cell_type": "code",
      "source": [
        "from sklearn.neighbors import KNeighborsClassifier\n",
        "knn = KNeighborsClassifier(n_neighbors = 3)\n",
        "x_train,y_train = trainingSet2.loc[:,trainingSet2.columns != 'class'], trainingSet2.loc[:,'class']\n",
        "x_test,y_test = testSet2.loc[:,testSet2.columns != 'class'], testSet2.loc[:,'class']"
      ],
      "metadata": {
        "id": "O6lWNLmSWtyV"
      },
      "execution_count": null,
      "outputs": []
    },
    {
      "cell_type": "code",
      "source": [
        "knn.fit(x_train,y_train)\n",
        "prediction = knn.predict(x_test)\n",
        "print('Prediction: {}'.format(prediction))\n",
        "print('With KNN (K=3) accuracy is: ',knn.score(x_test,y_test)) # accuracy"
      ],
      "metadata": {
        "id": "m0GUVPRRWvxW"
      },
      "execution_count": null,
      "outputs": []
    },
    {
      "cell_type": "code",
      "source": [],
      "metadata": {
        "id": "SysMR5TgWxrs"
      },
      "execution_count": null,
      "outputs": []
    }
  ]
}